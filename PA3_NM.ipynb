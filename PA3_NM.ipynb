{
 "cells": [
  {
   "cell_type": "markdown",
   "id": "b51e2c01-f0f3-41d6-89ce-2a63f074542a",
   "metadata": {},
   "source": [
    "# Programming Assignment 3\n",
    "---\n",
    "**Author:** Nikola Mrdak\n",
    "**Version:** 1.0  \n",
    "**Semester:** Spring 2024 \n",
    "\n",
    "This *notebook* contains my solution(s) to **Programming Assignment 3**"
   ]
  },
  {
   "cell_type": "code",
   "execution_count": 1,
   "id": "9721b6d1-3173-420d-a659-c83dead6fed7",
   "metadata": {
    "tags": []
   },
   "outputs": [],
   "source": [
    "import math"
   ]
  },
  {
   "cell_type": "markdown",
   "id": "9aa1b1c2-dab3-4781-9332-50ee0d1dd765",
   "metadata": {},
   "source": [
    "### Problem 1 - Geometry Calculator"
   ]
  },
  {
   "cell_type": "code",
   "execution_count": 3,
   "id": "26e2f9ae-b25e-46c4-859c-8d4fec54c5de",
   "metadata": {
    "tags": []
   },
   "outputs": [],
   "source": [
    "def Square(side):\n",
    "    perimeter = side * 4\n",
    "    area = float(side) * float(side)\n",
    "    return perimeter, area"
   ]
  },
  {
   "cell_type": "code",
   "execution_count": 4,
   "id": "baad6c81-1655-43fd-9ae0-f9f7a52554b0",
   "metadata": {
    "tags": []
   },
   "outputs": [],
   "source": [
    "def Triangle(base, hypotenuse, height):\n",
    "    perimeter = base + hypotenuse + height\n",
    "    area = 1/2 * base * height\n",
    "    return(perimeter, area)"
   ]
  },
  {
   "cell_type": "code",
   "execution_count": 5,
   "id": "d1b97146-d2cc-4e23-9172-5595510c769f",
   "metadata": {},
   "outputs": [],
   "source": [
    "def Circle(radius):\n",
    "    circumference = 2 * math.pi * radius\n",
    "    area = math.pi * radius**2\n",
    "    return circumference, area"
   ]
  },
  {
   "cell_type": "code",
   "execution_count": 6,
   "id": "f208cd69-f7c7-4c02-b483-278f6dfd5989",
   "metadata": {},
   "outputs": [],
   "source": [
    "def Rectangle(base, height):\n",
    "    perimeter = (base+base)+(height+height)\n",
    "    area = base*height\n",
    "    return perimeter, area"
   ]
  },
  {
   "cell_type": "code",
   "execution_count": 7,
   "id": "cd022aba-267d-4004-9d9e-8c9043080d3f",
   "metadata": {
    "tags": []
   },
   "outputs": [],
   "source": [
    "def Ellipse(a, b):\n",
    "    circumference = math.pi * ((3*(a + b)) - math.sqrt((3*a + b)*(a + 3*b)))\n",
    "    area = math.pi * a * b\n",
    "    return circumference, area"
   ]
  },
  {
   "cell_type": "code",
   "execution_count": 8,
   "id": "232a3676-bc40-449f-83b1-c2983f551a05",
   "metadata": {
    "tags": []
   },
   "outputs": [],
   "source": [
    "def Trapezoid(height, Top, Bottom, SideA, SideB):\n",
    "    perimeter = (Top + Bottom + SideA + SideB)\n",
    "    area = ((Top + Bottom)/2 * height)\n",
    "    return(perimeter, area)"
   ]
  },
  {
   "cell_type": "code",
   "execution_count": 9,
   "id": "847fedd2-9145-4b38-b81a-512c21edaffa",
   "metadata": {},
   "outputs": [
    {
     "name": "stdout",
     "output_type": "stream",
     "text": [
      "Indicate which shape you want to calculate for.\n"
     ]
    },
    {
     "name": "stdin",
     "output_type": "stream",
     "text": [
      "S = Square | TRI = Triangle (right triangles only) | C = Circle | R = Rectangle | E = Ellipse | TRAP = Trapezoid | Q to quit | Q\n"
     ]
    },
    {
     "name": "stdout",
     "output_type": "stream",
     "text": [
      "Finished!\n"
     ]
    }
   ],
   "source": [
    "print(f'Indicate which shape you want to calculate for.')\n",
    "scale = input(f'S = Square | TRI = Triangle (right triangles only) | C = Circle | '\\\n",
    "              'R = Rectangle | E = Ellipse | TRAP = Trapezoid | Q to quit |')\n",
    "while scale !=\"Q\":\n",
    "    if scale == \"S\":\n",
    "        side = float(input(f'Enter the length of the side: '))\n",
    "        P,A = Square(side)\n",
    "        print(f'The perimeter of your square is {P:.2f} and the area is {A:.2f}')\n",
    "    elif scale == \"TRI\":\n",
    "        base = float(input(f'Enter the length of the triangle base: '))\n",
    "        hypotenuse = float(input(f'Enter the hypotenuse: '))\n",
    "        height = float(input(f'Enter the height: '))\n",
    "        P,A = Triangle(base, hypotenuse, height)\n",
    "        print(f'The perimeter of your right triangle is {P:.2f} and the area is {A:.2f}')\n",
    "    elif scale == \"C\":\n",
    "        radius = float(input(f'Enter the radius of the circle: '))\n",
    "        C,A = Circle(radius)\n",
    "        print(f'The circumference of your circle is {C:.2f} and the radius is {A:.2f}')\n",
    "    elif scale == \"R\":\n",
    "        base = float(input(f'Enter the base of the rectangle: '))\n",
    "        height = float(input(f'Enter the height of the rectangle: '))\n",
    "        P,A = Rectangle(base, height)\n",
    "        print(f'The perimeter of your rectangle is {P:.2f} and the area is {A:.2f}')\n",
    "    elif scale == \"E\":\n",
    "        a = float(input(f'Enter the length of the semi-major axis: '))\n",
    "        b = float(input(f'Enter the length of the semi-minor axis: '))\n",
    "        C,A = Ellipse(a, b)\n",
    "        print(f'The circumference of your ellipse is {C:.2f} and the area is {A:.2f}')\n",
    "    elif scale == \"TRAP\":\n",
    "        height = float(input(f'Enter the height of the trapezoid: '))\n",
    "        Top = float(input(f'Enter the length of the upper base of the trapezoid: '))\n",
    "        Bottom = float(input(f'Enter the length of the bottom base: '))\n",
    "        SideA = float(input(f'Enter the length of the first leg of the trapezoid: '))\n",
    "        SideB = float(input(f'Enter the length of the second leg: '))\n",
    "        P,A = Trapezoid(height, Top, Bottom, SideA, SideB)\n",
    "        print(f'The perimeter of your trapezoid is {P:.2f} and the area is {A:.2f}')\n",
    "    else:\n",
    "        print(f'That is not a valid option.')\n",
    "        \n",
    "    scale = input(f'What shape would you like to calculate for. Refer to key above') \n",
    "        \n",
    "print(f'Finished!')"
   ]
  },
  {
   "cell_type": "markdown",
   "id": "be94549d-419a-46ef-820d-0713c5edc8fd",
   "metadata": {
    "tags": []
   },
   "source": [
    "### Problem 2 - Horse Computations"
   ]
  },
  {
   "cell_type": "code",
   "execution_count": 10,
   "id": "09d6b1e2-fd42-4d11-acff-a361214ba0fc",
   "metadata": {},
   "outputs": [],
   "source": [
    "def hands_convert(hands=5):\n",
    "    R = hands % 1\n",
    "    remainder = R * 10\n",
    "    feet = hands / 3 \n",
    "    return feet, remainder"
   ]
  },
  {
   "cell_type": "code",
   "execution_count": 11,
   "id": "36e59c5a-190f-4a5d-9a42-0e995ac145ae",
   "metadata": {
    "tags": []
   },
   "outputs": [],
   "source": [
    "def lengths_convert(lengths=1):\n",
    "    R = lengths % 1\n",
    "    remainder = R * 10\n",
    "    feet = lengths * 8\n",
    "    return feet, remainder"
   ]
  },
  {
   "cell_type": "code",
   "execution_count": 13,
   "id": "2132bfdf-f1e6-4896-b2ae-fd0089b12cb4",
   "metadata": {
    "tags": []
   },
   "outputs": [
    {
     "name": "stdin",
     "output_type": "stream",
     "text": [
      "Enter which scale of measurement you would like to convert to feet. Enter \"H\" for hands or \"L\" for horse lengths. \"Q\" to quit:  H\n",
      "How mnay hands long is your horse?:  69\n"
     ]
    },
    {
     "name": "stdout",
     "output_type": "stream",
     "text": [
      "You entered the length 69.0 hands, which is equal to 23 feet and 0 inches.\n"
     ]
    },
    {
     "name": "stdin",
     "output_type": "stream",
     "text": [
      "Enter which scale of measurement you would like to convert to feet. Refer to key above. Q\n"
     ]
    },
    {
     "name": "stdout",
     "output_type": "stream",
     "text": [
      "Finished horsing around!\n"
     ]
    }
   ],
   "source": [
    "scale = input(f'Enter which scale of measurement you would like to convert to feet. \\\n",
    "Enter \"H\" for hands or \"L\" for horse lengths. \"Q\" to quit: ')\n",
    "\n",
    "while scale != \"Q\": \n",
    "    if scale == \"H\":\n",
    "        hands = float(input(f'How mnay hands long is your horse?: '))\n",
    "        F, R = hands_convert(hands)\n",
    "        if R < 1:\n",
    "            output = (f'inches')\n",
    "        elif R > 1.1:\n",
    "            output = (f'inches')\n",
    "        else:\n",
    "            output = (f'inch')\n",
    "        print(f'You entered the length {hands} hands, which is equal to {F:.0f} feet and {R:.0f} {output}.')   \n",
    "    \n",
    "    elif scale == \"L\":\n",
    "        lengths = float(input(f'How many horse lengths long is your horse? '))\n",
    "        F, R = lengths_convert(lengths)\n",
    "        if R < 1:\n",
    "            output = (f'inches')\n",
    "        elif R > 1.1:\n",
    "            output = (f'inches')\n",
    "        else:\n",
    "            output = (f'inch')\n",
    "        print(f'You entered the length {lengths} horse lengths, which makes your horse {F:.0f} feet and {R:.0f} {output}.')\n",
    "    else:\n",
    "        print(f'That is not a viable option.')\n",
    "\n",
    "    scale = input(f'Enter which scale of measurement you would like to convert'\\\n",
    "' to feet. Refer to key above.')\n",
    "              \n",
    "print(f'Finished horsing around!')         "
   ]
  },
  {
   "cell_type": "markdown",
   "id": "a92fc1ac-9688-40be-9d81-ee6ead3210a3",
   "metadata": {},
   "source": [
    "### Problem 3 - Mean Temperature"
   ]
  },
  {
   "cell_type": "code",
   "execution_count": 30,
   "id": "0485371a-2170-4e9f-a1e7-bb2f2f25c041",
   "metadata": {
    "tags": []
   },
   "outputs": [],
   "source": [
    "def mean_temp(days, TempList):\n",
    "    days = len(TempList)\n",
    "    average = sum(TempList) / days\n",
    "    return(days, average)"
   ]
  },
  {
   "cell_type": "code",
   "execution_count": 31,
   "id": "8e2efb3f-52ec-4809-af6d-702699250c53",
   "metadata": {
    "tags": []
   },
   "outputs": [],
   "source": [
    "TempList = (60,57,42,60,69,68,65)"
   ]
  },
  {
   "cell_type": "code",
   "execution_count": 50,
   "id": "c414c829-8ca6-4c34-b93a-f40b24f1542b",
   "metadata": {
    "tags": []
   },
   "outputs": [
    {
     "name": "stdout",
     "output_type": "stream",
     "text": [
      "The mean temperature for the past 7 days is 60.14F°.\n"
     ]
    }
   ],
   "source": [
    "D, A = mean_temp(days, TempList)\n",
    "print(f'The mean temperature for the past {D} days is {A:.2f}F\\u00b0.')"
   ]
  }
 ],
 "metadata": {
  "kernelspec": {
   "display_name": "Python 3 (ipykernel)",
   "language": "python",
   "name": "python3"
  },
  "language_info": {
   "codemirror_mode": {
    "name": "ipython",
    "version": 3
   },
   "file_extension": ".py",
   "mimetype": "text/x-python",
   "name": "python",
   "nbconvert_exporter": "python",
   "pygments_lexer": "ipython3",
   "version": "3.11.5"
  }
 },
 "nbformat": 4,
 "nbformat_minor": 5
}
